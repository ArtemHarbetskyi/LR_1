{
  "nbformat": 4,
  "nbformat_minor": 0,
  "metadata": {
    "colab": {
      "provenance": [],
      "collapsed_sections": [
        "XwWs4H-CDk8S"
      ],
      "authorship_tag": "ABX9TyMIl+UFwSXysxxY8FOya989",
      "include_colab_link": true
    },
    "kernelspec": {
      "name": "python3",
      "display_name": "Python 3"
    },
    "language_info": {
      "name": "python"
    }
  },
  "cells": [
    {
      "cell_type": "markdown",
      "metadata": {
        "id": "view-in-github",
        "colab_type": "text"
      },
      "source": [
        "<a href=\"https://colab.research.google.com/github/ArtemHarbetskyi/LR_1/blob/main/onnx_to_tensorflow.ipynb\" target=\"_parent\"><img src=\"https://colab.research.google.com/assets/colab-badge.svg\" alt=\"Open In Colab\"/></a>"
      ]
    },
    {
      "cell_type": "markdown",
      "source": [
        "# INSTALL"
      ],
      "metadata": {
        "id": "ltYQjPTEvush"
      }
    },
    {
      "cell_type": "code",
      "source": [
        "!pip install tensorflow\n",
        "!pip install tensorflow-probability\n",
        "!pip install onnx-tf"
      ],
      "metadata": {
        "id": "fJdc7fPB__sn"
      },
      "execution_count": null,
      "outputs": []
    },
    {
      "cell_type": "markdown",
      "source": [],
      "metadata": {
        "id": "wZjZrTDyCBMD"
      }
    },
    {
      "cell_type": "markdown",
      "source": [
        "## 1) Convert .ONNX -> (Tensorflow) .PB"
      ],
      "metadata": {
        "id": "XwWs4H-CDk8S"
      }
    },
    {
      "cell_type": "code",
      "source": [
        "onnx-tf convert -i example.onnx -o example.pb                       ─╯"
      ],
      "metadata": {
        "id": "FZHIy7N9DhRj"
      },
      "execution_count": null,
      "outputs": []
    },
    {
      "cell_type": "markdown",
      "source": [
        "## 2) TensorFlow ('.pb') -> TensorFlow Lite ('.tflite')\n"
      ],
      "metadata": {
        "id": "-iQ18Y94D7dq"
      }
    },
    {
      "cell_type": "code",
      "source": [
        "!unzip phone_best_saved.zip"
      ],
      "metadata": {
        "id": "JGZS13BLFUne"
      },
      "execution_count": null,
      "outputs": []
    },
    {
      "cell_type": "code",
      "source": [
        "import tensorflow as tf\n",
        "\n",
        "# Convert the model\n",
        "converter = tf.lite.TFLiteConverter.from_saved_model(saved_model_dir) # path to the SavedModel directory\n",
        "tflite_model = converter.convert()\n",
        "\n",
        "# Save the model.\n",
        "with open('model.tflite', 'wb') as f:\n",
        "  f.write(tflite_model)"
      ],
      "metadata": {
        "id": "0FiZUaucD3oy"
      },
      "execution_count": null,
      "outputs": []
    }
  ]
}